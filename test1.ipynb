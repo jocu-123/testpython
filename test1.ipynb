{
  "nbformat": 4,
  "nbformat_minor": 0,
  "metadata": {
    "colab": {
      "name": "test1.ipynb",
      "provenance": [],
      "authorship_tag": "ABX9TyNm9200HIaJ3zBqZOZkqqlW",
      "include_colab_link": true
    },
    "kernelspec": {
      "name": "python3",
      "display_name": "Python 3"
    },
    "language_info": {
      "name": "python"
    }
  },
  "cells": [
    {
      "cell_type": "markdown",
      "metadata": {
        "id": "view-in-github",
        "colab_type": "text"
      },
      "source": [
        "<a href=\"https://colab.research.google.com/github/jocu-123/testpython/blob/main/test1.ipynb\" target=\"_parent\"><img src=\"https://colab.research.google.com/assets/colab-badge.svg\" alt=\"Open In Colab\"/></a>"
      ]
    },
    {
      "cell_type": "code",
      "metadata": {
        "colab": {
          "base_uri": "https://localhost:8080/"
        },
        "id": "1fg6FCKg7F8v",
        "outputId": "df8fb98e-fdf0-4c5b-85aa-bc75559bcfe4"
      },
      "source": [
        "#Consider two variables ‘var1’, ‘var2’ with integer values. Without the use of a third variable, swap the values of these two variables.\n",
        "\n",
        "var1=10\n",
        "var2=5\n",
        "var1=var1+var2\n",
        "var2=var1-var2\n",
        "var1=var1-var2\n",
        "print(\"var1 is\",var1)\n",
        "print(\"var2 is\",var2)"
      ],
      "execution_count": 2,
      "outputs": [
        {
          "output_type": "stream",
          "name": "stdout",
          "text": [
            "var1 is 5\n",
            "var2 is 10\n"
          ]
        }
      ]
    }
  ]
}