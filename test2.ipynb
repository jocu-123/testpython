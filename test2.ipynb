{
  "nbformat": 4,
  "nbformat_minor": 0,
  "metadata": {
    "colab": {
      "name": "test2.ipynb",
      "provenance": [],
      "authorship_tag": "ABX9TyN1GG7UgSUW9sVpg843zhfB",
      "include_colab_link": true
    },
    "kernelspec": {
      "name": "python3",
      "display_name": "Python 3"
    },
    "language_info": {
      "name": "python"
    }
  },
  "cells": [
    {
      "cell_type": "markdown",
      "metadata": {
        "id": "view-in-github",
        "colab_type": "text"
      },
      "source": [
        "<a href=\"https://colab.research.google.com/github/jocu-123/testpython/blob/main/test2.ipynb\" target=\"_parent\"><img src=\"https://colab.research.google.com/assets/colab-badge.svg\" alt=\"Open In Colab\"/></a>"
      ]
    },
    {
      "cell_type": "code",
      "metadata": {
        "colab": {
          "base_uri": "https://localhost:8080/"
        },
        "id": "_VJUpdOG8FXX",
        "outputId": "71038f92-18a5-45f9-8456-c0a9e594a6a9"
      },
      "source": [
        "'''The user enters a string and a substring. You have to print the number of times that the substring occurs in the given string. \n",
        "String traversal will take place from left to right, not from right to left. String letters are case sensitive.'''\n",
        "\n",
        "def count_substring(string, sub_string):\n",
        "    count=0\n",
        "    for i in range(len(string)):\n",
        "        for j in range(len(sub_string)):\n",
        "            if string[i+j]==sub_string[j] and j==(len(sub_string)-1):\n",
        "                count=count+1  \n",
        "            if string[i+j]!=sub_string[j]:\n",
        "                break  \n",
        "        if i==len(string)-len(sub_string):\n",
        "            break            \n",
        "    return count\n",
        "\n",
        "count = count_substring(\"hihelhilohi\", \"hi\")\n",
        "print(count)"
      ],
      "execution_count": 1,
      "outputs": [
        {
          "output_type": "stream",
          "name": "stdout",
          "text": [
            "3\n"
          ]
        }
      ]
    }
  ]
}